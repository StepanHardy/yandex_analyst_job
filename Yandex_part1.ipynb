{
 "cells": [
  {
   "cell_type": "markdown",
   "metadata": {},
   "source": [
    "# Домашняя работа. Яндекс.Маркет. Часть 1"
   ]
  },
  {
   "cell_type": "markdown",
   "metadata": {},
   "source": [
    "Задача: увеличение LTV за счет уменьшения оттока пользователей и увеличения частоты контакта<br>"
   ]
  },
  {
   "cell_type": "markdown",
   "metadata": {},
   "source": [
    "Ключевые этапы решения:\n",
    "1. Обработать данные<br>\n",
    "2. Сделать RFM-анализ<br>\n",
    "3. Подготовить рекомендации команде сервиса<br>\n",
    "4. Предложить проект по увеличению LTV и оценить потенциальную пользу от этого проекта"
   ]
  },
  {
   "cell_type": "code",
   "execution_count": 4,
   "metadata": {},
   "outputs": [],
   "source": [
    "import pandas as pd\n",
    "import numpy as np\n",
    "import matplotlib.pyplot as plt\n",
    "import re\n",
    "from scipy.interpolate import interp1d"
   ]
  },
  {
   "cell_type": "code",
   "execution_count": 5,
   "metadata": {},
   "outputs": [],
   "source": [
    "rfm = pd.read_csv('/Users/mac/Downloads/rfm.tsv', sep='\\t', header = None, encoding='latin-1', index_col=False, names=['hit timestamp','user_id','url','geo_id','category','price'], low_memory=False)"
   ]
  },
  {
   "cell_type": "markdown",
   "metadata": {},
   "source": [
    "timestamp хита <br>\n",
    "user_id <br>\n",
    "url - url хита или \"click\", если пользователь перешел в интернет-магазин <br>\n",
    "geo_id - идентификатор региона пользователя <br>\n",
    "category - идентификатор категории <br>\n",
    "price - стоимость клика, если пользователь перешел в интернет-магазин <br>"
   ]
  },
  {
   "cell_type": "markdown",
   "metadata": {},
   "source": [
    "# 1. Обработка датафреймов "
   ]
  },
  {
   "cell_type": "code",
   "execution_count": 6,
   "metadata": {
    "scrolled": true
   },
   "outputs": [
    {
     "data": {
      "text/plain": [
       "(10007147, 6)"
      ]
     },
     "execution_count": 6,
     "metadata": {},
     "output_type": "execute_result"
    }
   ],
   "source": [
    "rfm.shape"
   ]
  },
  {
   "cell_type": "code",
   "execution_count": 7,
   "metadata": {},
   "outputs": [
    {
     "data": {
      "text/html": [
       "<div>\n",
       "<style scoped>\n",
       "    .dataframe tbody tr th:only-of-type {\n",
       "        vertical-align: middle;\n",
       "    }\n",
       "\n",
       "    .dataframe tbody tr th {\n",
       "        vertical-align: top;\n",
       "    }\n",
       "\n",
       "    .dataframe thead th {\n",
       "        text-align: right;\n",
       "    }\n",
       "</style>\n",
       "<table border=\"1\" class=\"dataframe\">\n",
       "  <thead>\n",
       "    <tr style=\"text-align: right;\">\n",
       "      <th></th>\n",
       "      <th>hit timestamp</th>\n",
       "      <th>user_id</th>\n",
       "      <th>url</th>\n",
       "      <th>geo_id</th>\n",
       "      <th>category</th>\n",
       "      <th>price</th>\n",
       "    </tr>\n",
       "  </thead>\n",
       "  <tbody>\n",
       "    <tr>\n",
       "      <th>0</th>\n",
       "      <td>1380052543</td>\n",
       "      <td>00002ad98ae4290672431d702c211b4a</td>\n",
       "      <td>/_c/YwrVrj_29IVZDmKxglT53wo7Pk8.html</td>\n",
       "      <td>10000</td>\n",
       "      <td>NaN</td>\n",
       "      <td>NaN</td>\n",
       "    </tr>\n",
       "    <tr>\n",
       "      <th>1</th>\n",
       "      <td>1375703582</td>\n",
       "      <td>00003cb9076039f584a12c2036fd3602</td>\n",
       "      <td>/gate/cart-list.xml?sk=y5fc6079b758f5a4e3646a8...</td>\n",
       "      <td>10000</td>\n",
       "      <td>NaN</td>\n",
       "      <td>NaN</td>\n",
       "    </tr>\n",
       "    <tr>\n",
       "      <th>2</th>\n",
       "      <td>1374479873</td>\n",
       "      <td>00003cb9076039f584a12c2036fd3602</td>\n",
       "      <td>/gate/cart-list.xml?sk=yd6558780959d5130b32e1a...</td>\n",
       "      <td>10000</td>\n",
       "      <td>NaN</td>\n",
       "      <td>NaN</td>\n",
       "    </tr>\n",
       "    <tr>\n",
       "      <th>3</th>\n",
       "      <td>1374479892</td>\n",
       "      <td>00003cb9076039f584a12c2036fd3602</td>\n",
       "      <td>/gate/cart-list.xml?sk=yd6558780959d5130b32e1a...</td>\n",
       "      <td>10000</td>\n",
       "      <td>NaN</td>\n",
       "      <td>NaN</td>\n",
       "    </tr>\n",
       "    <tr>\n",
       "      <th>4</th>\n",
       "      <td>1374480337</td>\n",
       "      <td>00003cb9076039f584a12c2036fd3602</td>\n",
       "      <td>/gate/cart-list.xml?sk=yd6558780959d5130b32e1a...</td>\n",
       "      <td>10000</td>\n",
       "      <td>NaN</td>\n",
       "      <td>NaN</td>\n",
       "    </tr>\n",
       "  </tbody>\n",
       "</table>\n",
       "</div>"
      ],
      "text/plain": [
       "   hit timestamp                           user_id  \\\n",
       "0     1380052543  00002ad98ae4290672431d702c211b4a   \n",
       "1     1375703582  00003cb9076039f584a12c2036fd3602   \n",
       "2     1374479873  00003cb9076039f584a12c2036fd3602   \n",
       "3     1374479892  00003cb9076039f584a12c2036fd3602   \n",
       "4     1374480337  00003cb9076039f584a12c2036fd3602   \n",
       "\n",
       "                                                 url geo_id category  price  \n",
       "0               /_c/YwrVrj_29IVZDmKxglT53wo7Pk8.html  10000      NaN    NaN  \n",
       "1  /gate/cart-list.xml?sk=y5fc6079b758f5a4e3646a8...  10000      NaN    NaN  \n",
       "2  /gate/cart-list.xml?sk=yd6558780959d5130b32e1a...  10000      NaN    NaN  \n",
       "3  /gate/cart-list.xml?sk=yd6558780959d5130b32e1a...  10000      NaN    NaN  \n",
       "4  /gate/cart-list.xml?sk=yd6558780959d5130b32e1a...  10000      NaN    NaN  "
      ]
     },
     "execution_count": 7,
     "metadata": {},
     "output_type": "execute_result"
    }
   ],
   "source": [
    "rfm.head()"
   ]
  },
  {
   "cell_type": "markdown",
   "metadata": {},
   "source": [
    "<br>\n",
    "<br>\n",
    "Работа с hit timestamp"
   ]
  },
  {
   "cell_type": "code",
   "execution_count": 8,
   "metadata": {},
   "outputs": [],
   "source": [
    "rfm['hit timestamp'] = pd.to_datetime(rfm['hit timestamp'], unit='s') "
   ]
  },
  {
   "cell_type": "code",
   "execution_count": 9,
   "metadata": {},
   "outputs": [
    {
     "data": {
      "text/html": [
       "<div>\n",
       "<style scoped>\n",
       "    .dataframe tbody tr th:only-of-type {\n",
       "        vertical-align: middle;\n",
       "    }\n",
       "\n",
       "    .dataframe tbody tr th {\n",
       "        vertical-align: top;\n",
       "    }\n",
       "\n",
       "    .dataframe thead th {\n",
       "        text-align: right;\n",
       "    }\n",
       "</style>\n",
       "<table border=\"1\" class=\"dataframe\">\n",
       "  <thead>\n",
       "    <tr style=\"text-align: right;\">\n",
       "      <th></th>\n",
       "      <th>hit timestamp</th>\n",
       "      <th>user_id</th>\n",
       "      <th>url</th>\n",
       "      <th>geo_id</th>\n",
       "      <th>category</th>\n",
       "      <th>price</th>\n",
       "    </tr>\n",
       "  </thead>\n",
       "  <tbody>\n",
       "    <tr>\n",
       "      <th>0</th>\n",
       "      <td>2013-09-24 19:55:43</td>\n",
       "      <td>00002ad98ae4290672431d702c211b4a</td>\n",
       "      <td>/_c/YwrVrj_29IVZDmKxglT53wo7Pk8.html</td>\n",
       "      <td>10000</td>\n",
       "      <td>NaN</td>\n",
       "      <td>NaN</td>\n",
       "    </tr>\n",
       "    <tr>\n",
       "      <th>1</th>\n",
       "      <td>2013-08-05 11:53:02</td>\n",
       "      <td>00003cb9076039f584a12c2036fd3602</td>\n",
       "      <td>/gate/cart-list.xml?sk=y5fc6079b758f5a4e3646a8...</td>\n",
       "      <td>10000</td>\n",
       "      <td>NaN</td>\n",
       "      <td>NaN</td>\n",
       "    </tr>\n",
       "    <tr>\n",
       "      <th>2</th>\n",
       "      <td>2013-07-22 07:57:53</td>\n",
       "      <td>00003cb9076039f584a12c2036fd3602</td>\n",
       "      <td>/gate/cart-list.xml?sk=yd6558780959d5130b32e1a...</td>\n",
       "      <td>10000</td>\n",
       "      <td>NaN</td>\n",
       "      <td>NaN</td>\n",
       "    </tr>\n",
       "    <tr>\n",
       "      <th>3</th>\n",
       "      <td>2013-07-22 07:58:12</td>\n",
       "      <td>00003cb9076039f584a12c2036fd3602</td>\n",
       "      <td>/gate/cart-list.xml?sk=yd6558780959d5130b32e1a...</td>\n",
       "      <td>10000</td>\n",
       "      <td>NaN</td>\n",
       "      <td>NaN</td>\n",
       "    </tr>\n",
       "    <tr>\n",
       "      <th>4</th>\n",
       "      <td>2013-07-22 08:05:37</td>\n",
       "      <td>00003cb9076039f584a12c2036fd3602</td>\n",
       "      <td>/gate/cart-list.xml?sk=yd6558780959d5130b32e1a...</td>\n",
       "      <td>10000</td>\n",
       "      <td>NaN</td>\n",
       "      <td>NaN</td>\n",
       "    </tr>\n",
       "  </tbody>\n",
       "</table>\n",
       "</div>"
      ],
      "text/plain": [
       "        hit timestamp                           user_id  \\\n",
       "0 2013-09-24 19:55:43  00002ad98ae4290672431d702c211b4a   \n",
       "1 2013-08-05 11:53:02  00003cb9076039f584a12c2036fd3602   \n",
       "2 2013-07-22 07:57:53  00003cb9076039f584a12c2036fd3602   \n",
       "3 2013-07-22 07:58:12  00003cb9076039f584a12c2036fd3602   \n",
       "4 2013-07-22 08:05:37  00003cb9076039f584a12c2036fd3602   \n",
       "\n",
       "                                                 url geo_id category  price  \n",
       "0               /_c/YwrVrj_29IVZDmKxglT53wo7Pk8.html  10000      NaN    NaN  \n",
       "1  /gate/cart-list.xml?sk=y5fc6079b758f5a4e3646a8...  10000      NaN    NaN  \n",
       "2  /gate/cart-list.xml?sk=yd6558780959d5130b32e1a...  10000      NaN    NaN  \n",
       "3  /gate/cart-list.xml?sk=yd6558780959d5130b32e1a...  10000      NaN    NaN  \n",
       "4  /gate/cart-list.xml?sk=yd6558780959d5130b32e1a...  10000      NaN    NaN  "
      ]
     },
     "execution_count": 9,
     "metadata": {},
     "output_type": "execute_result"
    }
   ],
   "source": [
    "rfm.head()"
   ]
  },
  {
   "cell_type": "code",
   "execution_count": 10,
   "metadata": {},
   "outputs": [
    {
     "name": "stdout",
     "output_type": "stream",
     "text": [
      "Start:  2012-12-31 20:00:53 ; End:  2013-12-31 19:58:37 ; \n",
      "Period of time:  364 days 23:57:44\n"
     ]
    }
   ],
   "source": [
    "start = rfm['hit timestamp'].min()\n",
    "finish = rfm['hit timestamp'].max()\n",
    "period_rfm = finish - start # estimating period of time\n",
    "print('Start: ', start, '; End: ', finish, '; \\nPeriod of time: ', period_rfm)"
   ]
  },
  {
   "cell_type": "markdown",
   "metadata": {},
   "source": [
    ">Мы видим, что данные собраны за 1 год"
   ]
  },
  {
   "cell_type": "markdown",
   "metadata": {},
   "source": [
    "<br>\n",
    "<br>\n",
    "Работа с user_id"
   ]
  },
  {
   "cell_type": "code",
   "execution_count": 13,
   "metadata": {},
   "outputs": [
    {
     "data": {
      "text/plain": [
       "defeadb89b8be2537812b0f27f5a1eb8    65317\n",
       "3b5c0880306da1c4fa446aec760665e6    50946\n",
       "04337c2d13423a3f2980e6625ef7da1c    22703\n",
       "e8dc5428bb4ec274f70d19fa574b73c8    21519\n",
       "7a6d194bd452a1b89a817512f4e6a22c    19979\n",
       "                                    ...  \n",
       "ebfffe2e0ba9ef9ff3d77fbe8a545cf0        1\n",
       "cbcba87cf203b6bc93aee62b3e6b3d7c        1\n",
       "2356e549962ab7dbec9607896553c624        1\n",
       "1e5f98253e11f89c613f67d394b87290        1\n",
       "b1a48e8ed54ca193afce763c8647cea3        1\n",
       "Name: user_id, Length: 299208, dtype: int64"
      ]
     },
     "execution_count": 13,
     "metadata": {},
     "output_type": "execute_result"
    }
   ],
   "source": [
    "rfm[\"user_id\"].value_counts()"
   ]
  },
  {
   "cell_type": "code",
   "execution_count": 14,
   "metadata": {},
   "outputs": [
    {
     "data": {
      "text/plain": [
       "count                             10007147\n",
       "unique                              299208\n",
       "top       defeadb89b8be2537812b0f27f5a1eb8\n",
       "freq                                 65317\n",
       "Name: user_id, dtype: object"
      ]
     },
     "execution_count": 14,
     "metadata": {},
     "output_type": "execute_result"
    }
   ],
   "source": [
    "rfm[\"user_id\"].describe()"
   ]
  },
  {
   "cell_type": "markdown",
   "metadata": {},
   "source": [
    "траффик"
   ]
  },
  {
   "cell_type": "code",
   "execution_count": 15,
   "metadata": {},
   "outputs": [],
   "source": [
    "rfm['hit timestamp'] = rfm['hit timestamp'].astype(str).str.split(' ').str[0]"
   ]
  },
  {
   "cell_type": "code",
   "execution_count": 16,
   "metadata": {},
   "outputs": [],
   "source": [
    "rfm['hit timestamp'] = rfm['hit timestamp'].astype(str).str.split('-').str[1]"
   ]
  },
  {
   "cell_type": "code",
   "execution_count": 17,
   "metadata": {},
   "outputs": [
    {
     "data": {
      "text/html": [
       "<div>\n",
       "<style scoped>\n",
       "    .dataframe tbody tr th:only-of-type {\n",
       "        vertical-align: middle;\n",
       "    }\n",
       "\n",
       "    .dataframe tbody tr th {\n",
       "        vertical-align: top;\n",
       "    }\n",
       "\n",
       "    .dataframe thead th {\n",
       "        text-align: right;\n",
       "    }\n",
       "</style>\n",
       "<table border=\"1\" class=\"dataframe\">\n",
       "  <thead>\n",
       "    <tr style=\"text-align: right;\">\n",
       "      <th></th>\n",
       "      <th>hit timestamp</th>\n",
       "      <th>user_id</th>\n",
       "    </tr>\n",
       "  </thead>\n",
       "  <tbody>\n",
       "    <tr>\n",
       "      <th>0</th>\n",
       "      <td>09</td>\n",
       "      <td>00002ad98ae4290672431d702c211b4a</td>\n",
       "    </tr>\n",
       "    <tr>\n",
       "      <th>1</th>\n",
       "      <td>08</td>\n",
       "      <td>00003cb9076039f584a12c2036fd3602</td>\n",
       "    </tr>\n",
       "    <tr>\n",
       "      <th>2</th>\n",
       "      <td>07</td>\n",
       "      <td>00003cb9076039f584a12c2036fd3602</td>\n",
       "    </tr>\n",
       "    <tr>\n",
       "      <th>3</th>\n",
       "      <td>07</td>\n",
       "      <td>00003cb9076039f584a12c2036fd3602</td>\n",
       "    </tr>\n",
       "    <tr>\n",
       "      <th>4</th>\n",
       "      <td>07</td>\n",
       "      <td>00003cb9076039f584a12c2036fd3602</td>\n",
       "    </tr>\n",
       "    <tr>\n",
       "      <th>...</th>\n",
       "      <td>...</td>\n",
       "      <td>...</td>\n",
       "    </tr>\n",
       "    <tr>\n",
       "      <th>10007142</th>\n",
       "      <td>02</td>\n",
       "      <td>fffffdbc5c7fbe34b444d9c213bba286</td>\n",
       "    </tr>\n",
       "    <tr>\n",
       "      <th>10007143</th>\n",
       "      <td>02</td>\n",
       "      <td>fffffdbc5c7fbe34b444d9c213bba286</td>\n",
       "    </tr>\n",
       "    <tr>\n",
       "      <th>10007144</th>\n",
       "      <td>02</td>\n",
       "      <td>fffffdbc5c7fbe34b444d9c213bba286</td>\n",
       "    </tr>\n",
       "    <tr>\n",
       "      <th>10007145</th>\n",
       "      <td>02</td>\n",
       "      <td>fffffdbc5c7fbe34b444d9c213bba286</td>\n",
       "    </tr>\n",
       "    <tr>\n",
       "      <th>10007146</th>\n",
       "      <td>02</td>\n",
       "      <td>fffffdbc5c7fbe34b444d9c213bba286</td>\n",
       "    </tr>\n",
       "  </tbody>\n",
       "</table>\n",
       "<p>10007147 rows × 2 columns</p>\n",
       "</div>"
      ],
      "text/plain": [
       "         hit timestamp                           user_id\n",
       "0                   09  00002ad98ae4290672431d702c211b4a\n",
       "1                   08  00003cb9076039f584a12c2036fd3602\n",
       "2                   07  00003cb9076039f584a12c2036fd3602\n",
       "3                   07  00003cb9076039f584a12c2036fd3602\n",
       "4                   07  00003cb9076039f584a12c2036fd3602\n",
       "...                ...                               ...\n",
       "10007142            02  fffffdbc5c7fbe34b444d9c213bba286\n",
       "10007143            02  fffffdbc5c7fbe34b444d9c213bba286\n",
       "10007144            02  fffffdbc5c7fbe34b444d9c213bba286\n",
       "10007145            02  fffffdbc5c7fbe34b444d9c213bba286\n",
       "10007146            02  fffffdbc5c7fbe34b444d9c213bba286\n",
       "\n",
       "[10007147 rows x 2 columns]"
      ]
     },
     "execution_count": 17,
     "metadata": {},
     "output_type": "execute_result"
    }
   ],
   "source": [
    "rfm.iloc[:, :2]"
   ]
  },
  {
   "cell_type": "code",
   "execution_count": 18,
   "metadata": {},
   "outputs": [
    {
     "data": {
      "text/html": [
       "<div>\n",
       "<style scoped>\n",
       "    .dataframe tbody tr th:only-of-type {\n",
       "        vertical-align: middle;\n",
       "    }\n",
       "\n",
       "    .dataframe tbody tr th {\n",
       "        vertical-align: top;\n",
       "    }\n",
       "\n",
       "    .dataframe thead th {\n",
       "        text-align: right;\n",
       "    }\n",
       "</style>\n",
       "<table border=\"1\" class=\"dataframe\">\n",
       "  <thead>\n",
       "    <tr style=\"text-align: right;\">\n",
       "      <th></th>\n",
       "      <th>hit timestamp</th>\n",
       "    </tr>\n",
       "  </thead>\n",
       "  <tbody>\n",
       "    <tr>\n",
       "      <th>12</th>\n",
       "      <td>1250520</td>\n",
       "    </tr>\n",
       "    <tr>\n",
       "      <th>11</th>\n",
       "      <td>1059181</td>\n",
       "    </tr>\n",
       "    <tr>\n",
       "      <th>09</th>\n",
       "      <td>902542</td>\n",
       "    </tr>\n",
       "    <tr>\n",
       "      <th>07</th>\n",
       "      <td>863831</td>\n",
       "    </tr>\n",
       "    <tr>\n",
       "      <th>10</th>\n",
       "      <td>861098</td>\n",
       "    </tr>\n",
       "    <tr>\n",
       "      <th>04</th>\n",
       "      <td>811711</td>\n",
       "    </tr>\n",
       "    <tr>\n",
       "      <th>08</th>\n",
       "      <td>790919</td>\n",
       "    </tr>\n",
       "    <tr>\n",
       "      <th>05</th>\n",
       "      <td>768514</td>\n",
       "    </tr>\n",
       "    <tr>\n",
       "      <th>06</th>\n",
       "      <td>763631</td>\n",
       "    </tr>\n",
       "    <tr>\n",
       "      <th>03</th>\n",
       "      <td>686591</td>\n",
       "    </tr>\n",
       "    <tr>\n",
       "      <th>01</th>\n",
       "      <td>659413</td>\n",
       "    </tr>\n",
       "    <tr>\n",
       "      <th>02</th>\n",
       "      <td>589196</td>\n",
       "    </tr>\n",
       "  </tbody>\n",
       "</table>\n",
       "</div>"
      ],
      "text/plain": [
       "    hit timestamp\n",
       "12        1250520\n",
       "11        1059181\n",
       "09         902542\n",
       "07         863831\n",
       "10         861098\n",
       "04         811711\n",
       "08         790919\n",
       "05         768514\n",
       "06         763631\n",
       "03         686591\n",
       "01         659413\n",
       "02         589196"
      ]
     },
     "execution_count": 18,
     "metadata": {},
     "output_type": "execute_result"
    }
   ],
   "source": [
    "traf = rfm['hit timestamp'].value_counts()\n",
    "traffic = pd.DataFrame(traf)\n",
    "traffic"
   ]
  },
  {
   "cell_type": "code",
   "execution_count": 19,
   "metadata": {},
   "outputs": [
    {
     "data": {
      "text/plain": [
       "Text(0.5, 1.0, 'traffic per month')"
      ]
     },
     "execution_count": 19,
     "metadata": {},
     "output_type": "execute_result"
    },
    {
     "data": {
      "image/png": "[encoded data removed]",
      "text/plain": [
       "<Figure size 432x288 with 1 Axes>"
      ]
     },
     "metadata": {
      "needs_background": "light"
     },
     "output_type": "display_data"
    }
   ],
   "source": [
    "traffic.reindex(['01', '02', '03', '04', '05', '06', '07', '08', '09', '10', '11', '12']).plot(kind=\"line\", ylim=(0, 1300000))\n",
    "plt.title(\"traffic per month\")"
   ]
  },
  {
   "cell_type": "code",
   "execution_count": 20,
   "metadata": {},
   "outputs": [],
   "source": [
    "rfm2 = pd.read_csv('/Users/mac/Downloads/rfm.tsv', sep='\\t', header = None, encoding='latin-1', index_col=False, names=['hit timestamp','user_id','url','geo_id','category','price'], low_memory=False)"
   ]
  },
  {
   "cell_type": "code",
   "execution_count": 21,
   "metadata": {},
   "outputs": [],
   "source": [
    "rfm2['hit timestamp'] = pd.to_datetime(rfm2['hit timestamp'], unit='s') "
   ]
  },
  {
   "cell_type": "code",
   "execution_count": 22,
   "metadata": {},
   "outputs": [],
   "source": [
    "rfm2['hit timestamp'] = rfm2['hit timestamp'].astype(str).str.split(' ').str[1]"
   ]
  },
  {
   "cell_type": "code",
   "execution_count": 23,
   "metadata": {},
   "outputs": [],
   "source": [
    "rfm2['hit timestamp'] = rfm2['hit timestamp'].astype(str).str.split(':').str[0]"
   ]
  },
  {
   "cell_type": "code",
   "execution_count": 24,
   "metadata": {},
   "outputs": [
    {
     "data": {
      "text/html": [
       "<div>\n",
       "<style scoped>\n",
       "    .dataframe tbody tr th:only-of-type {\n",
       "        vertical-align: middle;\n",
       "    }\n",
       "\n",
       "    .dataframe tbody tr th {\n",
       "        vertical-align: top;\n",
       "    }\n",
       "\n",
       "    .dataframe thead th {\n",
       "        text-align: right;\n",
       "    }\n",
       "</style>\n",
       "<table border=\"1\" class=\"dataframe\">\n",
       "  <thead>\n",
       "    <tr style=\"text-align: right;\">\n",
       "      <th></th>\n",
       "      <th>hit timestamp</th>\n",
       "      <th>user_id</th>\n",
       "    </tr>\n",
       "  </thead>\n",
       "  <tbody>\n",
       "    <tr>\n",
       "      <th>0</th>\n",
       "      <td>19</td>\n",
       "      <td>00002ad98ae4290672431d702c211b4a</td>\n",
       "    </tr>\n",
       "    <tr>\n",
       "      <th>1</th>\n",
       "      <td>11</td>\n",
       "      <td>00003cb9076039f584a12c2036fd3602</td>\n",
       "    </tr>\n",
       "    <tr>\n",
       "      <th>2</th>\n",
       "      <td>07</td>\n",
       "      <td>00003cb9076039f584a12c2036fd3602</td>\n",
       "    </tr>\n",
       "    <tr>\n",
       "      <th>3</th>\n",
       "      <td>07</td>\n",
       "      <td>00003cb9076039f584a12c2036fd3602</td>\n",
       "    </tr>\n",
       "    <tr>\n",
       "      <th>4</th>\n",
       "      <td>08</td>\n",
       "      <td>00003cb9076039f584a12c2036fd3602</td>\n",
       "    </tr>\n",
       "    <tr>\n",
       "      <th>...</th>\n",
       "      <td>...</td>\n",
       "      <td>...</td>\n",
       "    </tr>\n",
       "    <tr>\n",
       "      <th>10007142</th>\n",
       "      <td>14</td>\n",
       "      <td>fffffdbc5c7fbe34b444d9c213bba286</td>\n",
       "    </tr>\n",
       "    <tr>\n",
       "      <th>10007143</th>\n",
       "      <td>14</td>\n",
       "      <td>fffffdbc5c7fbe34b444d9c213bba286</td>\n",
       "    </tr>\n",
       "    <tr>\n",
       "      <th>10007144</th>\n",
       "      <td>14</td>\n",
       "      <td>fffffdbc5c7fbe34b444d9c213bba286</td>\n",
       "    </tr>\n",
       "    <tr>\n",
       "      <th>10007145</th>\n",
       "      <td>14</td>\n",
       "      <td>fffffdbc5c7fbe34b444d9c213bba286</td>\n",
       "    </tr>\n",
       "    <tr>\n",
       "      <th>10007146</th>\n",
       "      <td>14</td>\n",
       "      <td>fffffdbc5c7fbe34b444d9c213bba286</td>\n",
       "    </tr>\n",
       "  </tbody>\n",
       "</table>\n",
       "<p>10007147 rows × 2 columns</p>\n",
       "</div>"
      ],
      "text/plain": [
       "         hit timestamp                           user_id\n",
       "0                   19  00002ad98ae4290672431d702c211b4a\n",
       "1                   11  00003cb9076039f584a12c2036fd3602\n",
       "2                   07  00003cb9076039f584a12c2036fd3602\n",
       "3                   07  00003cb9076039f584a12c2036fd3602\n",
       "4                   08  00003cb9076039f584a12c2036fd3602\n",
       "...                ...                               ...\n",
       "10007142            14  fffffdbc5c7fbe34b444d9c213bba286\n",
       "10007143            14  fffffdbc5c7fbe34b444d9c213bba286\n",
       "10007144            14  fffffdbc5c7fbe34b444d9c213bba286\n",
       "10007145            14  fffffdbc5c7fbe34b444d9c213bba286\n",
       "10007146            14  fffffdbc5c7fbe34b444d9c213bba286\n",
       "\n",
       "[10007147 rows x 2 columns]"
      ]
     },
     "execution_count": 24,
     "metadata": {},
     "output_type": "execute_result"
    }
   ],
   "source": [
    "rfm2.iloc[:, :2]"
   ]
  },
  {
   "cell_type": "code",
   "execution_count": 25,
   "metadata": {},
   "outputs": [
    {
     "name": "stdout",
     "output_type": "stream",
     "text": [
      "hit timestamp    620111\n",
      "dtype: int64 hit timestamp    86459\n",
      "dtype: int64\n"
     ]
    },
    {
     "data": {
      "text/html": [
       "<div>\n",
       "<style scoped>\n",
       "    .dataframe tbody tr th:only-of-type {\n",
       "        vertical-align: middle;\n",
       "    }\n",
       "\n",
       "    .dataframe tbody tr th {\n",
       "        vertical-align: top;\n",
       "    }\n",
       "\n",
       "    .dataframe thead th {\n",
       "        text-align: right;\n",
       "    }\n",
       "</style>\n",
       "<table border=\"1\" class=\"dataframe\">\n",
       "  <thead>\n",
       "    <tr style=\"text-align: right;\">\n",
       "      <th></th>\n",
       "      <th>hit timestamp</th>\n",
       "    </tr>\n",
       "  </thead>\n",
       "  <tbody>\n",
       "    <tr>\n",
       "      <th>17</th>\n",
       "      <td>620111</td>\n",
       "    </tr>\n",
       "    <tr>\n",
       "      <th>11</th>\n",
       "      <td>605110</td>\n",
       "    </tr>\n",
       "    <tr>\n",
       "      <th>10</th>\n",
       "      <td>605101</td>\n",
       "    </tr>\n",
       "    <tr>\n",
       "      <th>12</th>\n",
       "      <td>604254</td>\n",
       "    </tr>\n",
       "    <tr>\n",
       "      <th>09</th>\n",
       "      <td>601847</td>\n",
       "    </tr>\n",
       "    <tr>\n",
       "      <th>18</th>\n",
       "      <td>600511</td>\n",
       "    </tr>\n",
       "    <tr>\n",
       "      <th>13</th>\n",
       "      <td>591355</td>\n",
       "    </tr>\n",
       "    <tr>\n",
       "      <th>16</th>\n",
       "      <td>585434</td>\n",
       "    </tr>\n",
       "    <tr>\n",
       "      <th>15</th>\n",
       "      <td>574188</td>\n",
       "    </tr>\n",
       "    <tr>\n",
       "      <th>08</th>\n",
       "      <td>571864</td>\n",
       "    </tr>\n",
       "    <tr>\n",
       "      <th>14</th>\n",
       "      <td>569241</td>\n",
       "    </tr>\n",
       "    <tr>\n",
       "      <th>07</th>\n",
       "      <td>548347</td>\n",
       "    </tr>\n",
       "    <tr>\n",
       "      <th>19</th>\n",
       "      <td>504631</td>\n",
       "    </tr>\n",
       "    <tr>\n",
       "      <th>06</th>\n",
       "      <td>476946</td>\n",
       "    </tr>\n",
       "    <tr>\n",
       "      <th>05</th>\n",
       "      <td>364466</td>\n",
       "    </tr>\n",
       "    <tr>\n",
       "      <th>20</th>\n",
       "      <td>361509</td>\n",
       "    </tr>\n",
       "    <tr>\n",
       "      <th>04</th>\n",
       "      <td>245259</td>\n",
       "    </tr>\n",
       "    <tr>\n",
       "      <th>21</th>\n",
       "      <td>239617</td>\n",
       "    </tr>\n",
       "    <tr>\n",
       "      <th>03</th>\n",
       "      <td>165024</td>\n",
       "    </tr>\n",
       "    <tr>\n",
       "      <th>22</th>\n",
       "      <td>162952</td>\n",
       "    </tr>\n",
       "    <tr>\n",
       "      <th>02</th>\n",
       "      <td>116012</td>\n",
       "    </tr>\n",
       "    <tr>\n",
       "      <th>23</th>\n",
       "      <td>109478</td>\n",
       "    </tr>\n",
       "    <tr>\n",
       "      <th>01</th>\n",
       "      <td>97431</td>\n",
       "    </tr>\n",
       "    <tr>\n",
       "      <th>00</th>\n",
       "      <td>86459</td>\n",
       "    </tr>\n",
       "  </tbody>\n",
       "</table>\n",
       "</div>"
      ],
      "text/plain": [
       "    hit timestamp\n",
       "17         620111\n",
       "11         605110\n",
       "10         605101\n",
       "12         604254\n",
       "09         601847\n",
       "18         600511\n",
       "13         591355\n",
       "16         585434\n",
       "15         574188\n",
       "08         571864\n",
       "14         569241\n",
       "07         548347\n",
       "19         504631\n",
       "06         476946\n",
       "05         364466\n",
       "20         361509\n",
       "04         245259\n",
       "21         239617\n",
       "03         165024\n",
       "22         162952\n",
       "02         116012\n",
       "23         109478\n",
       "01          97431\n",
       "00          86459"
      ]
     },
     "execution_count": 25,
     "metadata": {},
     "output_type": "execute_result"
    }
   ],
   "source": [
    "traf2 = rfm2['hit timestamp'].value_counts()\n",
    "traffic2 = pd.DataFrame(traf2)\n",
    "print(traffic2.max(), traffic2.min())\n",
    "traffic2"
   ]
  },
  {
   "cell_type": "code",
   "execution_count": 26,
   "metadata": {},
   "outputs": [
    {
     "data": {
      "text/plain": [
       "Text(0.5, 1.0, 'traffic per day')"
      ]
     },
     "execution_count": 26,
     "metadata": {},
     "output_type": "execute_result"
    },
    {
     "data": {
      "image/png": "[encoded data removed]",
      "text/plain": [
       "<Figure size 432x288 with 1 Axes>"
      ]
     },
     "metadata": {
      "needs_background": "light"
     },
     "output_type": "display_data"
    }
   ],
   "source": [
    "traffic2.reindex(['00', '01', '02', '03', '04', '05', '06', '07', '08', '09', '10', '11', '12', '13', '14', '15', '16', '17', '18', '19', '20', '21', '22', '23']).plot(kind=\"bar\", ylim=(0, 700000))\n",
    "plt.title(\"traffic per day\")"
   ]
  },
  {
   "cell_type": "markdown",
   "metadata": {},
   "source": [
    ">Всего 299 208 пользователей (уникальных) за период <br>Наиболее активный пользователь defeadb89b8be2537812b0f27f5a1eb8, всего 65 317 хитов за год<br>\n",
    "Годовой траффик растет<br>\n",
    "Пик траффика приходится на 17 часов, спад на 24 часа"
   ]
  },
  {
   "cell_type": "markdown",
   "metadata": {},
   "source": [
    "<br>\n",
    "<br>\n",
    "Работа с url"
   ]
  },
  {
   "cell_type": "code",
   "execution_count": 27,
   "metadata": {},
   "outputs": [
    {
     "data": {
      "text/plain": [
       "click                                                                                                                                                                                                                                                                                                                            363313\n",
       "/                                                                                                                                                                                                                                                                                                                                178795\n",
       "/gate/route/carter/replaceContent                                                                                                                                                                                                                                                                                                170411\n",
       "/_c/YwrVrj_29IVZDmKxglT53wo7Pk8.html                                                                                                                                                                                                                                                                                             140615\n",
       "/?clid=195819&from=vb-chrome                                                                                                                                                                                                                                                                                                      92913\n",
       "                                                                                                                                                                                                                                                                                                                                  ...  \n",
       "/gate/maps/getcloud.xml?fesh=4827&offerid=X2k6KaxXvEgMO3GASFtikQ&tile=617,319&tile=617,320&tile=617,321&tile=617,322&tile=618,319&tile=618,320&tile=618,321&tile=618,322&tile=619,319&tile=619,320&tile=619,321&tile=619,322&tile=620,319&tile=620,320&tile=620,321&tile=620,322&zoom=10&sk=y94cd5988bffde48d741c60c91c20ca7f         1\n",
       "/offers.xml?modelid=7330438&hid=91020&how=aprice                                                                                                                                                                                                                                                                                      1\n",
       "/offer.xml?shop_id=17436&hid=91491&cmid=EwKvxGpGxPTHTClMGJzxCw&cpc=WpwnOiRcVkVJxoclCdjxxUeQn9v9xoSNagsRrsjFz28&modelid=10404627                                                                                                                                                                                                       1\n",
       "/offer?shop_id=43120&hid=91491&cmid=xy5Rp2qXl6ErPuLJW0_LrA&cpc=bQ_i0-hlaOCDI0Mpn_vt0WBQFhY5o0syb1PnkQEDO68&modelid=8226067                                                                                                                                                                                                            1\n",
       "/compare.xml?hid=857707&CAT_ID=1596134&CMD=-RR=0,0,0,0-CMP=7276258,9366605-PF=2142606970~LT~sel~600-PF=2142606970~GT~sel~500-PF=2142606951~TR~sel~select-VIS=8070-CAT_ID=1596134-BPOS=10-EXC=1-PG=10                                                                                                                                  1\n",
       "Name: url, Length: 4331251, dtype: int64"
      ]
     },
     "execution_count": 27,
     "metadata": {},
     "output_type": "execute_result"
    }
   ],
   "source": [
    "rfm[\"url\"].value_counts()"
   ]
  },
  {
   "cell_type": "markdown",
   "metadata": {},
   "source": [
    ">В этой серии есть две категории данных (url и clicks). <br>P.S. об этом указанно в условии. Пока выводов отсюда  мало, вероятнее всего дальше узнаем, что к чему."
   ]
  },
  {
   "cell_type": "markdown",
   "metadata": {},
   "source": [
    "<br>\n",
    "<br>\n",
    "Работа с geo_id"
   ]
  },
  {
   "cell_type": "code",
   "execution_count": 28,
   "metadata": {},
   "outputs": [
    {
     "data": {
      "text/html": [
       "<div>\n",
       "<style scoped>\n",
       "    .dataframe tbody tr th:only-of-type {\n",
       "        vertical-align: middle;\n",
       "    }\n",
       "\n",
       "    .dataframe tbody tr th {\n",
       "        vertical-align: top;\n",
       "    }\n",
       "\n",
       "    .dataframe thead th {\n",
       "        text-align: right;\n",
       "    }\n",
       "</style>\n",
       "<table border=\"1\" class=\"dataframe\">\n",
       "  <thead>\n",
       "    <tr style=\"text-align: right;\">\n",
       "      <th></th>\n",
       "      <th>geo_id</th>\n",
       "    </tr>\n",
       "  </thead>\n",
       "  <tbody>\n",
       "    <tr>\n",
       "      <th>10000</th>\n",
       "      <td>6096930</td>\n",
       "    </tr>\n",
       "    <tr>\n",
       "      <th>213</th>\n",
       "      <td>1832139</td>\n",
       "    </tr>\n",
       "    <tr>\n",
       "      <th>2</th>\n",
       "      <td>296505</td>\n",
       "    </tr>\n",
       "    <tr>\n",
       "      <th>54</th>\n",
       "      <td>91318</td>\n",
       "    </tr>\n",
       "    <tr>\n",
       "      <th>47</th>\n",
       "      <td>89190</td>\n",
       "    </tr>\n",
       "  </tbody>\n",
       "</table>\n",
       "</div>"
      ],
      "text/plain": [
       "        geo_id\n",
       "10000  6096930\n",
       "213    1832139\n",
       "2       296505\n",
       "54       91318\n",
       "47       89190"
      ]
     },
     "execution_count": 28,
     "metadata": {},
     "output_type": "execute_result"
    }
   ],
   "source": [
    "geo_id = rfm['geo_id']\n",
    "a = geo_id.value_counts()\n",
    "geo_id1 = pd.DataFrame(a)\n",
    "geo_id1.head()"
   ]
  },
  {
   "cell_type": "code",
   "execution_count": 29,
   "metadata": {
    "scrolled": true
   },
   "outputs": [
    {
     "data": {
      "text/html": [
       "<div>\n",
       "<style scoped>\n",
       "    .dataframe tbody tr th:only-of-type {\n",
       "        vertical-align: middle;\n",
       "    }\n",
       "\n",
       "    .dataframe tbody tr th {\n",
       "        vertical-align: top;\n",
       "    }\n",
       "\n",
       "    .dataframe thead th {\n",
       "        text-align: right;\n",
       "    }\n",
       "</style>\n",
       "<table border=\"1\" class=\"dataframe\">\n",
       "  <thead>\n",
       "    <tr style=\"text-align: right;\">\n",
       "      <th></th>\n",
       "      <th>geo_id</th>\n",
       "      <th>name</th>\n",
       "      <th>parent_region_id</th>\n",
       "      <th>type</th>\n",
       "      <th>TZ_OFFSET</th>\n",
       "    </tr>\n",
       "  </thead>\n",
       "  <tbody>\n",
       "    <tr>\n",
       "      <th>0</th>\n",
       "      <td>1</td>\n",
       "      <td>Москва и Московская область</td>\n",
       "      <td>3.0</td>\n",
       "      <td>5</td>\n",
       "      <td>10800</td>\n",
       "    </tr>\n",
       "    <tr>\n",
       "      <th>1</th>\n",
       "      <td>2</td>\n",
       "      <td>Санкт-Петербург</td>\n",
       "      <td>10174.0</td>\n",
       "      <td>6</td>\n",
       "      <td>10800</td>\n",
       "    </tr>\n",
       "    <tr>\n",
       "      <th>2</th>\n",
       "      <td>3</td>\n",
       "      <td>Центральный федеральный округ</td>\n",
       "      <td>225.0</td>\n",
       "      <td>4</td>\n",
       "      <td>10800</td>\n",
       "    </tr>\n",
       "    <tr>\n",
       "      <th>3</th>\n",
       "      <td>4</td>\n",
       "      <td>Белгород</td>\n",
       "      <td>120914.0</td>\n",
       "      <td>6</td>\n",
       "      <td>10800</td>\n",
       "    </tr>\n",
       "    <tr>\n",
       "      <th>4</th>\n",
       "      <td>5</td>\n",
       "      <td>Иваново</td>\n",
       "      <td>120943.0</td>\n",
       "      <td>6</td>\n",
       "      <td>10800</td>\n",
       "    </tr>\n",
       "  </tbody>\n",
       "</table>\n",
       "</div>"
      ],
      "text/plain": [
       "   geo_id                           name  parent_region_id  type  TZ_OFFSET\n",
       "0       1    Москва и Московская область               3.0     5      10800\n",
       "1       2                Санкт-Петербург           10174.0     6      10800\n",
       "2       3  Центральный федеральный округ             225.0     4      10800\n",
       "3       4                       Белгород          120914.0     6      10800\n",
       "4       5                        Иваново          120943.0     6      10800"
      ]
     },
     "execution_count": 29,
     "metadata": {},
     "output_type": "execute_result"
    }
   ],
   "source": [
    "id_geo = pd.read_csv('/Users/mac/Downloads/geo_table.dms', sep='\\t')\n",
    "id_geo1 = id_geo.rename(columns={'id': 'geo_id'})\n",
    "id_geo1.head()"
   ]
  },
  {
   "cell_type": "code",
   "execution_count": 30,
   "metadata": {},
   "outputs": [
    {
     "name": "stdout",
     "output_type": "stream",
     "text": [
      "TOP городов и округов, из которых пользователи наиболее часто заходят на маркет                                    name\n",
      "Москва и Московская область         247\n",
      "Санкт-Петербург                     195\n",
      "Центральный федеральный округ       141\n",
      "Белгород                            108\n",
      "Иваново                             105\n",
      "Калуга                               79\n",
      "Курск                                55\n",
      "Кострома                             51\n",
      "Липецк                               44\n",
      "Рязань                               39\n",
      "Орёл                                 37\n",
      "Тамбов                               33\n",
      "Тула                                 29\n",
      "Смоленск                             28\n",
      "Сыктывкар                            26\n",
      "Ярославль                            25\n",
      "Тверь                                25\n",
      "Архангельск                          22\n",
      "Северо-Западный федеральный округ    20\n",
      "Петрозаводск                         20\n"
     ]
    }
   ],
   "source": [
    "b = geo_id1.merge(id_geo1)\n",
    "c = b.iloc[:, 1:2]\n",
    "most_cities = c['name'].value_counts()\n",
    "d = pd.DataFrame(most_cities)[:20]\n",
    "print('TOP городов и округов, из которых пользователи наиболее часто заходят на маркет', d)"
   ]
  },
  {
   "cell_type": "markdown",
   "metadata": {},
   "source": [
    ">Чаще всего маркетом пользуются пользователи из Москвы и ЦАО<br>\n",
    "P.S. взята очень маленькая выборка из-за того, что id в файлах rfm и geo_table совпадает у очень небольшого числа пользователей"
   ]
  },
  {
   "cell_type": "markdown",
   "metadata": {},
   "source": [
    "<br>\n",
    "<br>\n",
    "Работа с category"
   ]
  },
  {
   "cell_type": "code",
   "execution_count": 31,
   "metadata": {},
   "outputs": [
    {
     "data": {
      "text/html": [
       "<div>\n",
       "<style scoped>\n",
       "    .dataframe tbody tr th:only-of-type {\n",
       "        vertical-align: middle;\n",
       "    }\n",
       "\n",
       "    .dataframe tbody tr th {\n",
       "        vertical-align: top;\n",
       "    }\n",
       "\n",
       "    .dataframe thead th {\n",
       "        text-align: right;\n",
       "    }\n",
       "</style>\n",
       "<table border=\"1\" class=\"dataframe\">\n",
       "  <thead>\n",
       "    <tr style=\"text-align: right;\">\n",
       "      <th></th>\n",
       "      <th>category</th>\n",
       "    </tr>\n",
       "  </thead>\n",
       "  <tbody>\n",
       "    <tr>\n",
       "      <th>0</th>\n",
       "      <td>NaN</td>\n",
       "    </tr>\n",
       "    <tr>\n",
       "      <th>1</th>\n",
       "      <td>NaN</td>\n",
       "    </tr>\n",
       "    <tr>\n",
       "      <th>2</th>\n",
       "      <td>NaN</td>\n",
       "    </tr>\n",
       "    <tr>\n",
       "      <th>3</th>\n",
       "      <td>NaN</td>\n",
       "    </tr>\n",
       "    <tr>\n",
       "      <th>4</th>\n",
       "      <td>NaN</td>\n",
       "    </tr>\n",
       "    <tr>\n",
       "      <th>...</th>\n",
       "      <td>...</td>\n",
       "    </tr>\n",
       "    <tr>\n",
       "      <th>10007142</th>\n",
       "      <td>4165204</td>\n",
       "    </tr>\n",
       "    <tr>\n",
       "      <th>10007143</th>\n",
       "      <td>4165204</td>\n",
       "    </tr>\n",
       "    <tr>\n",
       "      <th>10007144</th>\n",
       "      <td>294661</td>\n",
       "    </tr>\n",
       "    <tr>\n",
       "      <th>10007145</th>\n",
       "      <td>91033</td>\n",
       "    </tr>\n",
       "    <tr>\n",
       "      <th>10007146</th>\n",
       "      <td>91033</td>\n",
       "    </tr>\n",
       "  </tbody>\n",
       "</table>\n",
       "<p>10007147 rows × 1 columns</p>\n",
       "</div>"
      ],
      "text/plain": [
       "         category\n",
       "0             NaN\n",
       "1             NaN\n",
       "2             NaN\n",
       "3             NaN\n",
       "4             NaN\n",
       "...           ...\n",
       "10007142  4165204\n",
       "10007143  4165204\n",
       "10007144   294661\n",
       "10007145    91033\n",
       "10007146    91033\n",
       "\n",
       "[10007147 rows x 1 columns]"
      ]
     },
     "execution_count": 31,
     "metadata": {},
     "output_type": "execute_result"
    }
   ],
   "source": [
    "category_1 = rfm['category']\n",
    "pd.DataFrame(category_1)"
   ]
  },
  {
   "cell_type": "markdown",
   "metadata": {},
   "source": [
    "видим, что в серии category наблюдается неоднородность типов данных<br>\n",
    "чистить можно выбрав (1)числовые значения, (2)а нечисловые обработать регуляркой и достать числовые (3)  NaN и прочие символы не похожие на id котегории убрать<br>\n",
    "\n",
    "но это не повлияет на нашу цель"
   ]
  },
  {
   "cell_type": "code",
   "execution_count": 32,
   "metadata": {},
   "outputs": [
    {
     "data": {
      "text/html": [
       "<div>\n",
       "<style scoped>\n",
       "    .dataframe tbody tr th:only-of-type {\n",
       "        vertical-align: middle;\n",
       "    }\n",
       "\n",
       "    .dataframe tbody tr th {\n",
       "        vertical-align: top;\n",
       "    }\n",
       "\n",
       "    .dataframe thead th {\n",
       "        text-align: right;\n",
       "    }\n",
       "</style>\n",
       "<table border=\"1\" class=\"dataframe\">\n",
       "  <thead>\n",
       "    <tr style=\"text-align: right;\">\n",
       "      <th></th>\n",
       "      <th>category</th>\n",
       "      <th>parent_id</th>\n",
       "      <th>hyper_cat_id</th>\n",
       "      <th>category_name</th>\n",
       "      <th>category_pass</th>\n",
       "    </tr>\n",
       "  </thead>\n",
       "  <tbody>\n",
       "    <tr>\n",
       "      <th>0</th>\n",
       "      <td>984</td>\n",
       "      <td>978</td>\n",
       "      <td>91768</td>\n",
       "      <td>Этикет-пистолеты</td>\n",
       "      <td>\\tОборудование\\tОборудование для магазинов\\tЭт...</td>\n",
       "    </tr>\n",
       "    <tr>\n",
       "      <th>1</th>\n",
       "      <td>23187</td>\n",
       "      <td>978</td>\n",
       "      <td>10469630</td>\n",
       "      <td>Рекламные дисплеи и интерактивные панели</td>\n",
       "      <td>\\tОборудование\\tОборудование для магазинов\\tРе...</td>\n",
       "    </tr>\n",
       "    <tr>\n",
       "      <th>2</th>\n",
       "      <td>10411</td>\n",
       "      <td>978</td>\n",
       "      <td>5057803</td>\n",
       "      <td>Манекены</td>\n",
       "      <td>\\tОборудование\\tОборудование для магазинов\\tМа...</td>\n",
       "    </tr>\n",
       "    <tr>\n",
       "      <th>3</th>\n",
       "      <td>19545</td>\n",
       "      <td>978</td>\n",
       "      <td>6509282</td>\n",
       "      <td>Терминалы сбора данных</td>\n",
       "      <td>\\tОборудование\\tОборудование для магазинов\\tТе...</td>\n",
       "    </tr>\n",
       "    <tr>\n",
       "      <th>4</th>\n",
       "      <td>981</td>\n",
       "      <td>978</td>\n",
       "      <td>91765</td>\n",
       "      <td>Весы</td>\n",
       "      <td>\\tОборудование\\tОборудование для магазинов\\tВе...</td>\n",
       "    </tr>\n",
       "  </tbody>\n",
       "</table>\n",
       "</div>"
      ],
      "text/plain": [
       "   category  parent_id  hyper_cat_id  \\\n",
       "0       984        978         91768   \n",
       "1     23187        978      10469630   \n",
       "2     10411        978       5057803   \n",
       "3     19545        978       6509282   \n",
       "4       981        978         91765   \n",
       "\n",
       "                              category_name  \\\n",
       "0                          Этикет-пистолеты   \n",
       "1  Рекламные дисплеи и интерактивные панели   \n",
       "2                                  Манекены   \n",
       "3                    Терминалы сбора данных   \n",
       "4                                      Весы   \n",
       "\n",
       "                                       category_pass  \n",
       "0  \\tОборудование\\tОборудование для магазинов\\tЭт...  \n",
       "1  \\tОборудование\\tОборудование для магазинов\\tРе...  \n",
       "2  \\tОборудование\\tОборудование для магазинов\\tМа...  \n",
       "3  \\tОборудование\\tОборудование для магазинов\\tТе...  \n",
       "4  \\tОборудование\\tОборудование для магазинов\\tВе...  "
      ]
     },
     "execution_count": 32,
     "metadata": {},
     "output_type": "execute_result"
    }
   ],
   "source": [
    "category_2 = pd.read_csv('/Users/mac/Downloads/categories_tree.dms', sep='\\t')\n",
    "category_2 = category_2.rename(columns={'id': 'category'})\n",
    "category_2.head()"
   ]
  },
  {
   "cell_type": "markdown",
   "metadata": {},
   "source": [
    "<br>\n",
    "<br>\n",
    "Работа с price"
   ]
  },
  {
   "cell_type": "code",
   "execution_count": 33,
   "metadata": {},
   "outputs": [
    {
     "data": {
      "text/html": [
       "<div>\n",
       "<style scoped>\n",
       "    .dataframe tbody tr th:only-of-type {\n",
       "        vertical-align: middle;\n",
       "    }\n",
       "\n",
       "    .dataframe tbody tr th {\n",
       "        vertical-align: top;\n",
       "    }\n",
       "\n",
       "    .dataframe thead th {\n",
       "        text-align: right;\n",
       "    }\n",
       "</style>\n",
       "<table border=\"1\" class=\"dataframe\">\n",
       "  <thead>\n",
       "    <tr style=\"text-align: right;\">\n",
       "      <th></th>\n",
       "      <th>hit timestamp</th>\n",
       "      <th>user_id</th>\n",
       "      <th>url</th>\n",
       "      <th>geo_id</th>\n",
       "      <th>category</th>\n",
       "      <th>price</th>\n",
       "    </tr>\n",
       "  </thead>\n",
       "  <tbody>\n",
       "    <tr>\n",
       "      <th>64</th>\n",
       "      <td>03</td>\n",
       "      <td>00023fcc5c93cb4674bdad0d448272e6</td>\n",
       "      <td>click</td>\n",
       "      <td>213</td>\n",
       "      <td>2662954</td>\n",
       "      <td>30.0</td>\n",
       "    </tr>\n",
       "    <tr>\n",
       "      <th>65</th>\n",
       "      <td>03</td>\n",
       "      <td>00023fcc5c93cb4674bdad0d448272e6</td>\n",
       "      <td>click</td>\n",
       "      <td>213</td>\n",
       "      <td>6427100</td>\n",
       "      <td>10.0</td>\n",
       "    </tr>\n",
       "    <tr>\n",
       "      <th>66</th>\n",
       "      <td>03</td>\n",
       "      <td>00023fcc5c93cb4674bdad0d448272e6</td>\n",
       "      <td>click</td>\n",
       "      <td>213</td>\n",
       "      <td>6427100</td>\n",
       "      <td>10.0</td>\n",
       "    </tr>\n",
       "    <tr>\n",
       "      <th>67</th>\n",
       "      <td>03</td>\n",
       "      <td>00023fcc5c93cb4674bdad0d448272e6</td>\n",
       "      <td>click</td>\n",
       "      <td>213</td>\n",
       "      <td>6427100</td>\n",
       "      <td>10.0</td>\n",
       "    </tr>\n",
       "    <tr>\n",
       "      <th>68</th>\n",
       "      <td>03</td>\n",
       "      <td>00023fcc5c93cb4674bdad0d448272e6</td>\n",
       "      <td>click</td>\n",
       "      <td>213</td>\n",
       "      <td>6427100</td>\n",
       "      <td>80.0</td>\n",
       "    </tr>\n",
       "    <tr>\n",
       "      <th>...</th>\n",
       "      <td>...</td>\n",
       "      <td>...</td>\n",
       "      <td>...</td>\n",
       "      <td>...</td>\n",
       "      <td>...</td>\n",
       "      <td>...</td>\n",
       "    </tr>\n",
       "    <tr>\n",
       "      <th>10007009</th>\n",
       "      <td>03</td>\n",
       "      <td>ffffd6bd3a3f1e7b3b92a790104a6ae4</td>\n",
       "      <td>click</td>\n",
       "      <td>35</td>\n",
       "      <td>91011</td>\n",
       "      <td>31.0</td>\n",
       "    </tr>\n",
       "    <tr>\n",
       "      <th>10007010</th>\n",
       "      <td>03</td>\n",
       "      <td>ffffd6bd3a3f1e7b3b92a790104a6ae4</td>\n",
       "      <td>click</td>\n",
       "      <td>35</td>\n",
       "      <td>91011</td>\n",
       "      <td>37.0</td>\n",
       "    </tr>\n",
       "    <tr>\n",
       "      <th>10007011</th>\n",
       "      <td>03</td>\n",
       "      <td>ffffd6bd3a3f1e7b3b92a790104a6ae4</td>\n",
       "      <td>click</td>\n",
       "      <td>35</td>\n",
       "      <td>91011</td>\n",
       "      <td>37.0</td>\n",
       "    </tr>\n",
       "    <tr>\n",
       "      <th>10007012</th>\n",
       "      <td>03</td>\n",
       "      <td>ffffd6bd3a3f1e7b3b92a790104a6ae4</td>\n",
       "      <td>click</td>\n",
       "      <td>35</td>\n",
       "      <td>91011</td>\n",
       "      <td>45.0</td>\n",
       "    </tr>\n",
       "    <tr>\n",
       "      <th>10007120</th>\n",
       "      <td>02</td>\n",
       "      <td>ffffda42ccd5f1ed15a700b23fc6c8e5</td>\n",
       "      <td>click</td>\n",
       "      <td>39</td>\n",
       "      <td>91491</td>\n",
       "      <td>16.0</td>\n",
       "    </tr>\n",
       "  </tbody>\n",
       "</table>\n",
       "<p>363181 rows × 6 columns</p>\n",
       "</div>"
      ],
      "text/plain": [
       "         hit timestamp                           user_id    url geo_id  \\\n",
       "64                  03  00023fcc5c93cb4674bdad0d448272e6  click    213   \n",
       "65                  03  00023fcc5c93cb4674bdad0d448272e6  click    213   \n",
       "66                  03  00023fcc5c93cb4674bdad0d448272e6  click    213   \n",
       "67                  03  00023fcc5c93cb4674bdad0d448272e6  click    213   \n",
       "68                  03  00023fcc5c93cb4674bdad0d448272e6  click    213   \n",
       "...                ...                               ...    ...    ...   \n",
       "10007009            03  ffffd6bd3a3f1e7b3b92a790104a6ae4  click     35   \n",
       "10007010            03  ffffd6bd3a3f1e7b3b92a790104a6ae4  click     35   \n",
       "10007011            03  ffffd6bd3a3f1e7b3b92a790104a6ae4  click     35   \n",
       "10007012            03  ffffd6bd3a3f1e7b3b92a790104a6ae4  click     35   \n",
       "10007120            02  ffffda42ccd5f1ed15a700b23fc6c8e5  click     39   \n",
       "\n",
       "         category  price  \n",
       "64        2662954   30.0  \n",
       "65        6427100   10.0  \n",
       "66        6427100   10.0  \n",
       "67        6427100   10.0  \n",
       "68        6427100   80.0  \n",
       "...           ...    ...  \n",
       "10007009    91011   31.0  \n",
       "10007010    91011   37.0  \n",
       "10007011    91011   37.0  \n",
       "10007012    91011   45.0  \n",
       "10007120    91491   16.0  \n",
       "\n",
       "[363181 rows x 6 columns]"
      ]
     },
     "execution_count": 33,
     "metadata": {},
     "output_type": "execute_result"
    }
   ],
   "source": [
    "price = rfm[rfm['price']>0]\n",
    "price"
   ]
  },
  {
   "cell_type": "code",
   "execution_count": 34,
   "metadata": {},
   "outputs": [
    {
     "data": {
      "text/html": [
       "<div>\n",
       "<style scoped>\n",
       "    .dataframe tbody tr th:only-of-type {\n",
       "        vertical-align: middle;\n",
       "    }\n",
       "\n",
       "    .dataframe tbody tr th {\n",
       "        vertical-align: top;\n",
       "    }\n",
       "\n",
       "    .dataframe thead th {\n",
       "        text-align: right;\n",
       "    }\n",
       "</style>\n",
       "<table border=\"1\" class=\"dataframe\">\n",
       "  <thead>\n",
       "    <tr style=\"text-align: right;\">\n",
       "      <th></th>\n",
       "      <th>price</th>\n",
       "    </tr>\n",
       "  </thead>\n",
       "  <tbody>\n",
       "    <tr>\n",
       "      <th>count</th>\n",
       "      <td>363181.000000</td>\n",
       "    </tr>\n",
       "    <tr>\n",
       "      <th>mean</th>\n",
       "      <td>28.240646</td>\n",
       "    </tr>\n",
       "    <tr>\n",
       "      <th>std</th>\n",
       "      <td>51.870724</td>\n",
       "    </tr>\n",
       "    <tr>\n",
       "      <th>min</th>\n",
       "      <td>5.000000</td>\n",
       "    </tr>\n",
       "    <tr>\n",
       "      <th>25%</th>\n",
       "      <td>10.000000</td>\n",
       "    </tr>\n",
       "    <tr>\n",
       "      <th>50%</th>\n",
       "      <td>10.000000</td>\n",
       "    </tr>\n",
       "    <tr>\n",
       "      <th>75%</th>\n",
       "      <td>20.000000</td>\n",
       "    </tr>\n",
       "    <tr>\n",
       "      <th>max</th>\n",
       "      <td>1000.000000</td>\n",
       "    </tr>\n",
       "  </tbody>\n",
       "</table>\n",
       "</div>"
      ],
      "text/plain": [
       "               price\n",
       "count  363181.000000\n",
       "mean       28.240646\n",
       "std        51.870724\n",
       "min         5.000000\n",
       "25%        10.000000\n",
       "50%        10.000000\n",
       "75%        20.000000\n",
       "max      1000.000000"
      ]
     },
     "execution_count": 34,
     "metadata": {},
     "output_type": "execute_result"
    }
   ],
   "source": [
    "price.describe()"
   ]
  },
  {
   "cell_type": "code",
   "execution_count": 35,
   "metadata": {},
   "outputs": [
    {
     "data": {
      "text/plain": [
       "10256466.0"
      ]
     },
     "execution_count": 35,
     "metadata": {},
     "output_type": "execute_result"
    }
   ],
   "source": [
    "rfm['price'].sum() # выручка за период"
   ]
  },
  {
   "cell_type": "markdown",
   "metadata": {},
   "source": [
    ">При указании \"click\" в url, соответствующее значение \"price\" не равно нулю<br>\n",
    "Общее количество транзакций - 363 181 шт.<br>"
   ]
  },
  {
   "cell_type": "code",
   "execution_count": 68,
   "metadata": {},
   "outputs": [],
   "source": [
    "payers_quantity = (rfm[rfm.url=='click'])['user_id'].unique().size\n",
    "total_users = rfm['user_id'].unique().size"
   ]
  },
  {
   "cell_type": "markdown",
   "metadata": {},
   "source": [
    "<br>\n",
    "<br>\n",
    "ARPPU - доход на одного платящего пользователя"
   ]
  },
  {
   "cell_type": "code",
   "execution_count": 69,
   "metadata": {},
   "outputs": [
    {
     "name": "stdout",
     "output_type": "stream",
     "text": [
      "ARPPU: 185 ед.\n"
     ]
    }
   ],
   "source": [
    "revenue = (rfm[rfm.url=='click'])['price'].sum()\n",
    "ARPPU = float(revenue) // payers_quantity\n",
    "print('ARPPU: {} ед.'.format(int(ARPPU)))"
   ]
  },
  {
   "cell_type": "markdown",
   "metadata": {},
   "source": [
    "<br>\n",
    "<br>\n",
    "ARPU - средний доход на всех пользователей"
   ]
  },
  {
   "cell_type": "code",
   "execution_count": 70,
   "metadata": {},
   "outputs": [
    {
     "name": "stdout",
     "output_type": "stream",
     "text": [
      "ARPU: 34 ед.\n"
     ]
    }
   ],
   "source": [
    "revenue = (rfm[rfm.url=='click'])['price'].sum()\n",
    "ARPU = float(revenue) // total_users\n",
    "print('ARPU: {} ед.'.format(int(ARPU)))"
   ]
  },
  {
   "cell_type": "markdown",
   "metadata": {},
   "source": [
    "<br>\n",
    "<br>\n",
    "Paying Share - доля платящих клиентов"
   ]
  },
  {
   "cell_type": "code",
   "execution_count": 80,
   "metadata": {},
   "outputs": [
    {
     "name": "stdout",
     "output_type": "stream",
     "text": [
      "Paying Share: 18.378378%\n"
     ]
    }
   ],
   "source": [
    "Paying_Share = ARPU / ARPPU\n",
    "print('Paying Share: {:%}'.format(float(Paying_Share)))"
   ]
  },
  {
   "cell_type": "markdown",
   "metadata": {},
   "source": [
    "# Что мы выяснили"
   ]
  },
  {
   "cell_type": "markdown",
   "metadata": {},
   "source": [
    "    1. Период - год (365 дней)\n",
    "    2. Уникальных пользователей - 299 208 шт.\n",
    "    3. Лидирующий округ по числу пользователей - ЦАО\n",
    "    4. Число оплаченных кликов (вероятно, когда пользователь проходит на сайт магазина с маркета) - 363 181 ед.\n",
    "    5. Общая выручка - 10 256 466 ед.\n",
    "    6. ARPPU - 185 ед.\n",
    "    7. ARPU - 34 ед.\n",
    "    8. Paying Share - 18,4%\n",
    "    9. Годовой траффик растет (при этом, пик дневного траффика приходится на 17 часов дня, спад на 24 часа)"
   ]
  },
  {
   "cell_type": "markdown",
   "metadata": {},
   "source": [
    "Следующий этап RFM-анализ в файле Yandex_part2 ------>"
   ]
  }
 ],
 "metadata": {
  "kernelspec": {
   "display_name": "Python 3",
   "language": "python",
   "name": "python3"
  },
  "language_info": {
   "codemirror_mode": {
    "name": "ipython",
    "version": 3
   },
   "file_extension": ".py",
   "mimetype": "text/x-python",
   "name": "python",
   "nbconvert_exporter": "python",
   "pygments_lexer": "ipython3",
   "version": "3.6.10"
  }
 },
 "nbformat": 4,
 "nbformat_minor": 4
}
